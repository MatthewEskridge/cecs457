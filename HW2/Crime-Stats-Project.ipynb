{
 "cells": [
  {
   "cell_type": "markdown",
   "id": "55e6b918-afac-43e8-b338-43f8ac64014f",
   "metadata": {},
   "source": [
    "##  Deep Neural Networks Project"
   ]
  },
  {
   "cell_type": "markdown",
   "id": "1a8e066d-2849-4a6e-9c71-bb98d605ae07",
   "metadata": {},
   "source": [
    "In this project, you will be working with a real-world data set from the Las Vegas Metropolitan Police Department. The dataset  contains information about the reported incidents, including the time and location of the crime, type of incident, and number of persons involved. "
   ]
  },
  {
   "cell_type": "markdown",
   "id": "9e87fac7-352a-4c39-b087-76254b5e2743",
   "metadata": {},
   "source": [
    "The dataset is downloaded from the public docket at: \n",
    "https://opendata-lvmpd.hub.arcgis.com\n",
    "\n",
    "let's read the csv file and transform the data:"
   ]
  },
  {
   "cell_type": "code",
   "execution_count": 219,
   "id": "637211a4-582f-426b-a127-c3f284463f35",
   "metadata": {},
   "outputs": [],
   "source": [
    "import torch\n",
    "import pandas as pd\n",
    "from torch.utils.data import DataLoader, Dataset\n",
    "import matplotlib.pyplot as plt\n",
    "import seaborn as sns\n",
    "import numpy as np"
   ]
  },
  {
   "cell_type": "code",
   "execution_count": 220,
   "id": "bcf40b02-80b6-4abc-a662-f7ed50a65181",
   "metadata": {},
   "outputs": [],
   "source": [
    "orig_df = pd.read_csv('C:\\\\Users\\\\MatthewEskridgeLT\\\\Downloads\\\\LVMPD-Stats.csv', parse_dates=['ReportedOn'])"
   ]
  },
  {
   "cell_type": "code",
   "execution_count": 221,
   "id": "e1ca1d15-3955-4971-a3c4-c1a73b62edda",
   "metadata": {},
   "outputs": [],
   "source": [
    "df = pd.read_csv('C:\\\\Users\\\\MatthewEskridgeLT\\\\Downloads\\\\LVMPD-Stats.csv', parse_dates=['ReportedOn'],\n",
    "                 usecols = ['X', 'Y', 'ReportedOn',\n",
    "                            'Area_Command','NIBRSOffenseCode',\n",
    "                            'VictimCount' ] )\n",
    "\n",
    "df['DayOfWeek'] = df['ReportedOn'].dt.day_name()\n",
    "df['Time' ]     = df['ReportedOn'].dt.hour\n",
    "df.drop(columns = 'ReportedOn', inplace=True)"
   ]
  },
  {
   "cell_type": "code",
   "execution_count": 222,
   "id": "3ddc413d-ba3f-4204-bc18-7fdd4de8d221",
   "metadata": {},
   "outputs": [],
   "source": [
    "\n",
    "df['X'] = df['X'] \n",
    "df['Y'] = df['Y'] \n",
    "df['Time'] = pd.factorize(df['Time'])[0]\n",
    "df['DayOfWeek'] = pd.factorize(df['DayOfWeek'])[0]\n",
    "df.Area_Command = pd.factorize(df['Area_Command'])[0]\n",
    "df.VictimCount = pd.factorize(df['VictimCount'])[0]\n",
    "df.NIBRSOffenseCode = pd.factorize(df['NIBRSOffenseCode'])[0]\n",
    "df.dropna(inplace=True)"
   ]
  },
  {
   "cell_type": "code",
   "execution_count": 223,
   "id": "a9c6162f-9686-4195-818d-950a6368c686",
   "metadata": {},
   "outputs": [],
   "source": [
    "df= df[['X', 'Y', 'Area_Command', 'NIBRSOffenseCode',\n",
    "       'DayOfWeek', 'Time','VictimCount']]"
   ]
  },
  {
   "cell_type": "code",
   "execution_count": 224,
   "id": "a90bc78a-6d1b-4fe4-a1b0-8333aec1c851",
   "metadata": {},
   "outputs": [
    {
     "data": {
      "text/plain": [
       "(275, 7)"
      ]
     },
     "execution_count": 224,
     "metadata": {},
     "output_type": "execute_result"
    }
   ],
   "source": [
    "df.values.shape"
   ]
  },
  {
   "cell_type": "markdown",
   "id": "651605b1-8d2c-4d3e-a09e-9aef6e550fc6",
   "metadata": {},
   "source": [
    "# Goal\n",
    "The goal is to build a predictive model that is trained on the following data:\n",
    "* latitude and longitude (location)\n",
    "* Hour of the day\n",
    "* Day of the week\n",
    "* Area-of-command code: The police designation of the bureau of the operation.\n",
    "* Classification code for the crime committed\n",
    "  \n",
    "The predicted variable is the number of persons involved in the accident.\n"
   ]
  },
  {
   "cell_type": "markdown",
   "id": "0e54f0b8-83f9-4db9-88f9-f5a595342069",
   "metadata": {},
   "source": [
    "## Task 1\n",
    "* print a few rows of the values in the dataframe ``df`` and explain what each column of data means. \n",
    "* identify the input and target variables\n",
    "* what is the range of values in each column? Do you need to scale, shift or normalize your data? \n"
   ]
  },
  {
   "cell_type": "code",
   "execution_count": 225,
   "id": "d0b8f131",
   "metadata": {},
   "outputs": [
    {
     "name": "stdout",
     "output_type": "stream",
     "text": [
      "            X          Y  Area_Command  NIBRSOffenseCode  DayOfWeek  Time  \\\n",
      "0 -115.087518  36.216702             0                 0          0     0   \n",
      "1 -115.240172  36.189693             1                 1          1     1   \n",
      "2 -115.143088  36.181329             2                 1          2     0   \n",
      "\n",
      "   VictimCount  \n",
      "0            0  \n",
      "1            0  \n",
      "2            1  \n"
     ]
    }
   ],
   "source": [
    "pd.set_option('display.max_columns', None)\n",
    "print(df.head(3))"
   ]
  },
  {
   "attachments": {},
   "cell_type": "markdown",
   "id": "3e187686",
   "metadata": {},
   "source": [
    "    X: The X coordinate of the event\n",
    "    Y: The Y coordinate of the event\n",
    "    OBJECTID: An ID likely for internal use\n",
    "    Event_Number: An ID likely for internal use\n",
    "    ReportedOn: The date the event was reported\n",
    "    Location: The location of the event\n",
    "    CSZ: County, State, and ZIP code\n",
    "    Area_Command: The Command Area the event took place in\n",
    "    Beat: An ID likely for internal use\n",
    "    OffenseGroup: The group the offense fits in\n",
    "    CrimeAgainst: The type of victim\n",
    "    OffenseCategory: The category the offense fits in\n",
    "    Offense: Description of the offense\n",
    "    NIBRSOffenseCode: The National Incident Based Reporting System code for the event\n",
    "    ViolentCrime: Whether or not the crime was violent\n",
    "    ShootingVictims: Whether or not there were shooting victims\n",
    "    VictimCount: The number of victims\n",
    "    Weapons: Weapons used in the event\n",
    "    Longitude: The longitude coordinate of the event\n",
    "    Latitude: The latitude coordinate of the event\n",
    "    DateDif: Date difference from occurance to reporting\n",
    "    \n",
    "    Input variables: Latitude, longitude, hour of day, day of week, area of command, crime classification code\n",
    "    Target variable: Number of persons involved in incident\n",
    "    \n",
    "    There are a few outliers in the data that may need to be adjusted for."
   ]
  },
  {
   "cell_type": "markdown",
   "id": "5549ecc9-3c0b-4efa-9a1f-340a25a1e4be",
   "metadata": {},
   "source": [
    "## Task 2 \n",
    "\n",
    "* Create two `DataLoader` objects for training and testing based on the input and output variables. Pick a reasonable batch size and verify the shape of data by iterating over the one dataset and printing the shape of the batched data. "
   ]
  },
  {
   "cell_type": "code",
   "execution_count": 226,
   "id": "00fe4287-934b-4799-9e43-c3571acfbab4",
   "metadata": {},
   "outputs": [
    {
     "name": "stdout",
     "output_type": "stream",
     "text": [
      "Shape of input batch: torch.Size([32, 6])\n",
      "Shape of target batch: torch.Size([32, 1])\n"
     ]
    }
   ],
   "source": [
    "from sklearn.model_selection import train_test_split\n",
    "from torch.utils.data import TensorDataset\n",
    "\n",
    "# Convert dataframe to numpy arrays\n",
    "inputs = df[['X', 'Y', 'Time', 'DayOfWeek', 'Area_Command', 'NIBRSOffenseCode']].values\n",
    "targets = df['VictimCount'].values\n",
    "\n",
    "# Split data into training and test sets\n",
    "inputs_train, inputs_test, targets_train, targets_test = train_test_split(inputs, targets, test_size=0.2, random_state=42)\n",
    "\n",
    "# Convert numpy arrays to PyTorch tensors\n",
    "inputs_train = torch.tensor(inputs_train, dtype=torch.float32)\n",
    "targets_train = torch.tensor(targets_train, dtype=torch.float32).unsqueeze(1)\n",
    "inputs_test = torch.tensor(inputs_test, dtype=torch.float32)\n",
    "targets_test = torch.tensor(targets_test, dtype=torch.float32).unsqueeze(1)\n",
    "\n",
    "\n",
    "# Create TensorDataset objects\n",
    "train_dataset = TensorDataset(inputs_train, targets_train)\n",
    "test_dataset = TensorDataset(inputs_test, targets_test)\n",
    "\n",
    "# Create DataLoader objects\n",
    "train_loader = DataLoader(train_dataset, batch_size=32, shuffle=True)\n",
    "test_loader = DataLoader(test_dataset, batch_size=32)\n",
    "\n",
    "# Verify the shape of data\n",
    "for inputs_batch, targets_batch in train_loader:\n",
    "    print(\"Shape of input batch:\", inputs_batch.shape)\n",
    "    print(\"Shape of target batch:\", targets_batch.shape)\n",
    "    break  # Only print the shapes for the first batch\n"
   ]
  },
  {
   "cell_type": "markdown",
   "id": "1fb6f08c-5e70-4b14-b62c-4686d9f7aace",
   "metadata": {},
   "source": [
    "## Task 3\n",
    "In this task you will try to predict number of crime victims as a **real number**. Therefore the machine learning problem is a **regression** problem. \n",
    "\n",
    "* Define the proper loss function for this task\n",
    "* what should the size of the predicted output be?\n",
    "* explain your choice of architecture, including how many layers you will be using\n",
    "* define an optimizer for training this model, choose a proper learning rate \n",
    "* write a training loop that obtains a batch out of the  training data and calculates the forward and backward passes over the neural network. Call the optimizer to update the weights of the neural network.\n",
    "* write a for loop that continues the training over a number of epochs. At the end of each epoch, calculate the ``MSE`` error on the test data and print it.\n",
    "* is your model training well? Adjust the learning rate, hidden size of the network, and try different activation functions and number of layers to achieve the best accuracy and report it. "
   ]
  },
  {
   "cell_type": "code",
   "execution_count": 227,
   "id": "fe8fc30c",
   "metadata": {},
   "outputs": [
    {
     "name": "stdout",
     "output_type": "stream",
     "text": [
      "Epoch 1, Test Loss: 7.215729810417838e+21\n",
      "Epoch 2, Test Loss: 3.1735100318601026e+20\n",
      "Epoch 3, Test Loss: 1.3957241284918772e+19\n",
      "Epoch 4, Test Loss: 6.138457281957724e+17\n",
      "Epoch 5, Test Loss: 2.6997213087399936e+16\n",
      "Epoch 6, Test Loss: 1187349480341504.0\n",
      "Epoch 7, Test Loss: 52220183707648.0\n",
      "Epoch 8, Test Loss: 2296667963392.0\n",
      "Epoch 9, Test Loss: 101008498688.0\n",
      "Epoch 10, Test Loss: 4442398720.0\n",
      "Epoch 11, Test Loss: 195378768.0\n",
      "Epoch 12, Test Loss: 8592690.0\n",
      "Epoch 13, Test Loss: 377903.96875\n",
      "Epoch 14, Test Loss: 16634.44140625\n",
      "Epoch 15, Test Loss: 730.5196533203125\n",
      "Epoch 16, Test Loss: 33.02214050292969\n",
      "Epoch 17, Test Loss: 2.3631181716918945\n",
      "Epoch 18, Test Loss: 0.9939218759536743\n",
      "Epoch 19, Test Loss: 0.9335941076278687\n",
      "Epoch 20, Test Loss: 0.934381365776062\n",
      "Epoch 21, Test Loss: 0.9344995617866516\n",
      "Epoch 22, Test Loss: 0.9337409138679504\n",
      "Epoch 23, Test Loss: 0.9335542917251587\n",
      "Epoch 24, Test Loss: 0.9345120787620544\n",
      "Epoch 25, Test Loss: 0.9340800642967224\n",
      "Epoch 26, Test Loss: 0.9337157011032104\n",
      "Epoch 27, Test Loss: 0.9336581230163574\n",
      "Epoch 28, Test Loss: 0.9341709017753601\n",
      "Epoch 29, Test Loss: 0.9355058073997498\n",
      "Epoch 30, Test Loss: 0.9336450695991516\n",
      "Epoch 31, Test Loss: 0.9335552453994751\n",
      "Epoch 32, Test Loss: 0.934803307056427\n",
      "Epoch 33, Test Loss: 0.9335554242134094\n",
      "Epoch 34, Test Loss: 0.9338712692260742\n",
      "Epoch 35, Test Loss: 0.9363420605659485\n",
      "Epoch 36, Test Loss: 0.9337218999862671\n",
      "Epoch 37, Test Loss: 0.9335675835609436\n",
      "Epoch 38, Test Loss: 0.9337792992591858\n",
      "Epoch 39, Test Loss: 0.9345363974571228\n",
      "Epoch 40, Test Loss: 0.9356143474578857\n",
      "Epoch 41, Test Loss: 0.9342368841171265\n",
      "Epoch 42, Test Loss: 0.9364657402038574\n",
      "Epoch 43, Test Loss: 0.9340794682502747\n",
      "Epoch 44, Test Loss: 0.934438943862915\n",
      "Epoch 45, Test Loss: 0.9345858693122864\n",
      "Epoch 46, Test Loss: 0.9337119460105896\n",
      "Epoch 47, Test Loss: 0.9336323142051697\n",
      "Epoch 48, Test Loss: 0.9336622357368469\n",
      "Epoch 49, Test Loss: 0.935394823551178\n",
      "Epoch 50, Test Loss: 0.9336481690406799\n",
      "Epoch 51, Test Loss: 0.9335753917694092\n",
      "Epoch 52, Test Loss: 0.9337149262428284\n",
      "Epoch 53, Test Loss: 0.9360018372535706\n",
      "Epoch 54, Test Loss: 0.9337319135665894\n",
      "Epoch 55, Test Loss: 0.9335575699806213\n",
      "Epoch 56, Test Loss: 0.9336811900138855\n",
      "Epoch 57, Test Loss: 0.9341586232185364\n",
      "Epoch 58, Test Loss: 0.9336158037185669\n",
      "Epoch 59, Test Loss: 0.9350534081459045\n",
      "Epoch 60, Test Loss: 0.9341784119606018\n",
      "Epoch 61, Test Loss: 0.9345425963401794\n",
      "Epoch 62, Test Loss: 0.9335716366767883\n",
      "Epoch 63, Test Loss: 0.9335734844207764\n",
      "Epoch 64, Test Loss: 0.9335542321205139\n",
      "Epoch 65, Test Loss: 0.9336629509925842\n",
      "Epoch 66, Test Loss: 0.9341394305229187\n",
      "Epoch 67, Test Loss: 0.9336435198783875\n",
      "Epoch 68, Test Loss: 0.9336156845092773\n",
      "Epoch 69, Test Loss: 0.9335626363754272\n",
      "Epoch 70, Test Loss: 0.9345401525497437\n",
      "Epoch 71, Test Loss: 0.9338487982749939\n",
      "Epoch 72, Test Loss: 0.9344823956489563\n",
      "Epoch 73, Test Loss: 0.9340803623199463\n",
      "Epoch 74, Test Loss: 0.934117317199707\n",
      "Epoch 75, Test Loss: 0.9335542321205139\n",
      "Epoch 76, Test Loss: 0.9336782693862915\n",
      "Epoch 77, Test Loss: 0.9337352514266968\n",
      "Epoch 78, Test Loss: 0.9363197088241577\n",
      "Epoch 79, Test Loss: 0.9337934851646423\n",
      "Epoch 80, Test Loss: 0.9345385432243347\n",
      "Epoch 81, Test Loss: 0.9338096380233765\n",
      "Epoch 82, Test Loss: 0.9342363476753235\n",
      "Epoch 83, Test Loss: 0.9340669512748718\n",
      "Epoch 84, Test Loss: 0.9335544109344482\n",
      "Epoch 85, Test Loss: 0.933789849281311\n",
      "Epoch 86, Test Loss: 0.9335615634918213\n",
      "Epoch 87, Test Loss: 0.9337601661682129\n",
      "Epoch 88, Test Loss: 0.9341816902160645\n",
      "Epoch 89, Test Loss: 0.9343028664588928\n",
      "Epoch 90, Test Loss: 0.9337988495826721\n",
      "Epoch 91, Test Loss: 0.9339650869369507\n",
      "Epoch 92, Test Loss: 0.9369955062866211\n",
      "Epoch 93, Test Loss: 0.9345372915267944\n",
      "Epoch 94, Test Loss: 0.9337786436080933\n",
      "Epoch 95, Test Loss: 0.9358950257301331\n",
      "Epoch 96, Test Loss: 0.93656325340271\n",
      "Epoch 97, Test Loss: 0.9339543581008911\n",
      "Epoch 98, Test Loss: 0.9338634610176086\n",
      "Epoch 99, Test Loss: 0.9336881041526794\n",
      "Epoch 100, Test Loss: 0.9338861703872681\n"
     ]
    }
   ],
   "source": [
    "import torch.nn as nn\n",
    "import torch.optim as optim\n",
    "\n",
    "# Define the model\n",
    "model = nn.Sequential(\n",
    "    nn.Linear(6, 10),  # Input layer: 6 features going into 10 neurons\n",
    "    nn.ReLU(),  # Activation function\n",
    "    nn.Linear(10, 10),  # Hidden layer: 10 neurons going into 10 neurons\n",
    "    nn.ReLU(),  # Activation function\n",
    "    nn.Linear(10, 1)  # Output layer: 10 neurons going into 1 output neuron\n",
    ")\n",
    "\n",
    "# Define the loss function\n",
    "loss_fn = nn.MSELoss()\n",
    "\n",
    "# Define the optimizer\n",
    "optimizer = optim.SGD(model.parameters(), lr=0.1)\n",
    "\n",
    "# Training loop\n",
    "for epoch in range(100):  # Number of epochs\n",
    "    for inputs_batch, targets_batch in train_loader:\n",
    "        # Forward pass\n",
    "        outputs_batch = model(inputs_batch)\n",
    "        loss = loss_fn(outputs_batch, targets_batch)\n",
    "\n",
    "        # Backward pass and optimization\n",
    "        optimizer.zero_grad()\n",
    "        loss.backward()\n",
    "        optimizer.step()\n",
    "\n",
    "    # Calculate MSE on test data after each epoch\n",
    "    with torch.no_grad():\n",
    "        outputs_test = model(inputs_test)\n",
    "        test_loss = loss_fn(outputs_test, targets_test.view(-1, 1))  # Ensure target tensor has same shape as output tensor\n",
    "    print(f\"Epoch {epoch+1}, Test Loss: {test_loss.item()}\")\n",
    "\n"
   ]
  },
  {
   "cell_type": "markdown",
   "id": "43cae2fb",
   "metadata": {},
   "source": [
    "The size of the predicted output should be [32, 1]. For architecture I am using a feed forward neural network with 2 layers of neurons (1 hidden layer). The model is learning but seems to stop improving after about 20 epochs."
   ]
  },
  {
   "cell_type": "markdown",
   "id": "86e3fc70-c6ce-4589-9930-128951290e8d",
   "metadata": {},
   "source": [
    "## Task 4 \n",
    "\n",
    "In this task, you will try to predict the number of crime victims as a **class number**. Therefore the machine learning problem is a **classification** problem. \n",
    "\n",
    "* Repeat all the steps in task 3. Specifically, pay attention to the differences with regression.\n",
    "* How would you find the number of classes on the output data?\n",
    "* How is the architecture different?\n",
    "* How is the loss function different?\n",
    "* Calculate the Accuracy for test data as the number of correct classified outputs divided by the total number of test data in each epoch. Report it at the end of each epoch\n",
    "* Try a few variations of learning rate, hidden dimensions, layers, etc. What is the best accuracy that you can get? "
   ]
  },
  {
   "cell_type": "code",
   "execution_count": 237,
   "id": "7d929c52-af34-4081-92cd-3463a3fc4db1",
   "metadata": {},
   "outputs": [
    {
     "name": "stdout",
     "output_type": "stream",
     "text": [
      "Epoch 1, Accuracy: 1.0\n",
      "Epoch 2, Accuracy: 1.0\n",
      "Epoch 3, Accuracy: 1.0\n",
      "Epoch 4, Accuracy: 1.0\n",
      "Epoch 5, Accuracy: 1.0\n",
      "Epoch 6, Accuracy: 1.0\n",
      "Epoch 7, Accuracy: 1.0\n",
      "Epoch 8, Accuracy: 1.0\n",
      "Epoch 9, Accuracy: 1.0\n",
      "Epoch 10, Accuracy: 1.0\n",
      "Epoch 11, Accuracy: 1.0\n",
      "Epoch 12, Accuracy: 1.0\n",
      "Epoch 13, Accuracy: 1.0\n",
      "Epoch 14, Accuracy: 1.0\n",
      "Epoch 15, Accuracy: 1.0\n",
      "Epoch 16, Accuracy: 1.0\n",
      "Epoch 17, Accuracy: 1.0\n",
      "Epoch 18, Accuracy: 1.0\n",
      "Epoch 19, Accuracy: 1.0\n",
      "Epoch 20, Accuracy: 1.0\n",
      "Epoch 21, Accuracy: 1.0\n",
      "Epoch 22, Accuracy: 1.0\n",
      "Epoch 23, Accuracy: 1.0\n",
      "Epoch 24, Accuracy: 1.0\n",
      "Epoch 25, Accuracy: 1.0\n",
      "Epoch 26, Accuracy: 1.0\n",
      "Epoch 27, Accuracy: 1.0\n",
      "Epoch 28, Accuracy: 1.0\n",
      "Epoch 29, Accuracy: 1.0\n",
      "Epoch 30, Accuracy: 1.0\n",
      "Epoch 31, Accuracy: 1.0\n",
      "Epoch 32, Accuracy: 1.0\n",
      "Epoch 33, Accuracy: 1.0\n",
      "Epoch 34, Accuracy: 1.0\n",
      "Epoch 35, Accuracy: 1.0\n",
      "Epoch 36, Accuracy: 1.0\n",
      "Epoch 37, Accuracy: 1.0\n",
      "Epoch 38, Accuracy: 1.0\n",
      "Epoch 39, Accuracy: 1.0\n",
      "Epoch 40, Accuracy: 1.0\n",
      "Epoch 41, Accuracy: 1.0\n",
      "Epoch 42, Accuracy: 1.0\n",
      "Epoch 43, Accuracy: 1.0\n",
      "Epoch 44, Accuracy: 1.0\n",
      "Epoch 45, Accuracy: 1.0\n",
      "Epoch 46, Accuracy: 1.0\n",
      "Epoch 47, Accuracy: 1.0\n",
      "Epoch 48, Accuracy: 1.0\n",
      "Epoch 49, Accuracy: 1.0\n",
      "Epoch 50, Accuracy: 1.0\n",
      "Epoch 51, Accuracy: 1.0\n",
      "Epoch 52, Accuracy: 1.0\n",
      "Epoch 53, Accuracy: 1.0\n",
      "Epoch 54, Accuracy: 1.0\n",
      "Epoch 55, Accuracy: 1.0\n",
      "Epoch 56, Accuracy: 1.0\n",
      "Epoch 57, Accuracy: 1.0\n",
      "Epoch 58, Accuracy: 1.0\n",
      "Epoch 59, Accuracy: 1.0\n",
      "Epoch 60, Accuracy: 1.0\n",
      "Epoch 61, Accuracy: 1.0\n",
      "Epoch 62, Accuracy: 1.0\n",
      "Epoch 63, Accuracy: 1.0\n",
      "Epoch 64, Accuracy: 1.0\n",
      "Epoch 65, Accuracy: 1.0\n",
      "Epoch 66, Accuracy: 1.0\n",
      "Epoch 67, Accuracy: 1.0\n",
      "Epoch 68, Accuracy: 1.0\n",
      "Epoch 69, Accuracy: 1.0\n",
      "Epoch 70, Accuracy: 1.0\n",
      "Epoch 71, Accuracy: 1.0\n",
      "Epoch 72, Accuracy: 1.0\n",
      "Epoch 73, Accuracy: 1.0\n",
      "Epoch 74, Accuracy: 1.0\n",
      "Epoch 75, Accuracy: 1.0\n",
      "Epoch 76, Accuracy: 1.0\n",
      "Epoch 77, Accuracy: 1.0\n",
      "Epoch 78, Accuracy: 1.0\n",
      "Epoch 79, Accuracy: 1.0\n",
      "Epoch 80, Accuracy: 1.0\n",
      "Epoch 81, Accuracy: 1.0\n",
      "Epoch 82, Accuracy: 1.0\n",
      "Epoch 83, Accuracy: 1.0\n",
      "Epoch 84, Accuracy: 1.0\n",
      "Epoch 85, Accuracy: 1.0\n",
      "Epoch 86, Accuracy: 1.0\n",
      "Epoch 87, Accuracy: 1.0\n",
      "Epoch 88, Accuracy: 1.0\n",
      "Epoch 89, Accuracy: 1.0\n",
      "Epoch 90, Accuracy: 1.0\n",
      "Epoch 91, Accuracy: 1.0\n",
      "Epoch 92, Accuracy: 1.0\n",
      "Epoch 93, Accuracy: 1.0\n",
      "Epoch 94, Accuracy: 1.0\n",
      "Epoch 95, Accuracy: 1.0\n",
      "Epoch 96, Accuracy: 1.0\n",
      "Epoch 97, Accuracy: 1.0\n",
      "Epoch 98, Accuracy: 1.0\n",
      "Epoch 99, Accuracy: 1.0\n",
      "Epoch 100, Accuracy: 1.0\n"
     ]
    }
   ],
   "source": [
    "# Define the model\n",
    "model = nn.Sequential(\n",
    "    nn.Linear(6, 10),  # Input layer: 6 features going into 10 neurons\n",
    "    nn.ReLU(),  # Activation function\n",
    "    nn.Linear(10, 10),  # Hidden layer: 10 neurons going into 10 neurons\n",
    "    nn.ReLU(),  # Activation function\n",
    "    nn.Linear(10, 6)  # Output layer: 10 neurons going into 6 output neurons (assuming 6 classes)\n",
    ")\n",
    "\n",
    "# Define the loss function\n",
    "loss_fn = nn.CrossEntropyLoss()\n",
    "\n",
    "# Define the optimizer\n",
    "optimizer = optim.SGD(model.parameters(), lr=0.3)\n",
    "\n",
    "# Training loop\n",
    "for epoch in range(100):  # Number of epochs\n",
    "    for inputs_batch, targets_batch in train_loader:\n",
    "        # Forward pass\n",
    "        outputs_batch = model(inputs_batch)\n",
    "        targets_batch_indices = torch.argmax(targets_batch, dim=1)  # Convert one-hot encoded targets to class indices\n",
    "        loss = loss_fn(outputs_batch, targets_batch_indices)\n",
    "\n",
    "        # Backward pass and optimization\n",
    "        optimizer.zero_grad()\n",
    "        loss.backward()\n",
    "        optimizer.step()\n",
    "\n",
    "    # Calculate Accuracy on test data after each epoch\n",
    "    with torch.no_grad():\n",
    "        outputs_test = model(inputs_test)\n",
    "        predicted = torch.argmax(outputs_test.data, dim=1)  # Get predicted classes\n",
    "        total = targets_test.size(0)\n",
    "        targets_test_indices = torch.argmax(targets_test, dim=1)  # Convert one-hot encoded targets to class indices\n",
    "        correct = (predicted == targets_test_indices).sum().item()\n",
    "        accuracy = correct / total\n",
    "    print(f\"Epoch {epoch+1}, Accuracy: {accuracy}\")\n",
    "\n"
   ]
  },
  {
   "cell_type": "markdown",
   "id": "f0930c30",
   "metadata": {},
   "source": [
    "The number of classes can be identified by using a function to calculate the number of unique outputs, in this case number of victims. With classification the output layer will have multiple neurons one for each class. The cross entropy loss function is used insted of the mean squared error."
   ]
  },
  {
   "cell_type": "markdown",
   "id": "84d2a304-6197-4cd9-b31e-745f7862f213",
   "metadata": {},
   "source": [
    "## Task 5"
   ]
  },
  {
   "cell_type": "markdown",
   "id": "d6e4ef16-d828-45e5-bd58-1c49fcfecf52",
   "metadata": {},
   "source": [
    "### Reflect on your results\n",
    "\n",
    "* Write a paragraph about your experience with tasks 3 and 4. How do you compare the results? Which one worked better? Why?\n",
    "* Write a piece of code that finds an example of a  miss-classification. Calculate the probabilities for the output classes and plot them in a bar chart. Also, indicate what is the correct class label."
   ]
  },
  {
   "cell_type": "markdown",
   "id": "aa6208ce",
   "metadata": {},
   "source": [
    "Tasks 3 and 4 were quite the challenge to complete. The results I observed of task 3 were much clearer and do show a continuous trend. Task 3 worked better in my case possibly just because I have a better grasp on regression and am more familiar with how to set up and adjust the neural network."
   ]
  },
  {
   "cell_type": "markdown",
   "id": "5b000b0b-fa37-4f8d-8ec7-0a1e6e749424",
   "metadata": {},
   "source": [
    "## Task 6: Exploring the patterns in raw data\n",
    "\n",
    "* Plot the crime incidents as a `scatter` plot using the corrdinates. Use the color property of each datapoint to indicate the day of the week. Is there a pattern in the plot?\n",
    "* Now make a new scatter plot and use the color property of each datapoint to indicate the number of persons involved in the incident. Is there a pattern here?\n",
    "* use numpy (or pandas if you like) to sort the number of crimes reported by the day of the week. What days are most frequent?\n"
   ]
  },
  {
   "cell_type": "code",
   "execution_count": 232,
   "id": "7c1aa9d2",
   "metadata": {},
   "outputs": [
    {
     "data": {
      "image/png": "[encoded data removed]",
      "text/plain": [
       "<Figure size 1000x1000 with 1 Axes>"
      ]
     },
     "metadata": {},
     "output_type": "display_data"
    }
   ],
   "source": [
    "# Color dictionary for each unique day of the week\n",
    "colors = {0:'red', 1:'blue', 2:'green', 3:'yellow', 4:'purple', 5:'orange', 6:'black'}\n",
    "\n",
    "# Label dictionary for each unique day of the week\n",
    "labels = {0:'Monday', 1:'Tuesday', 2:'Wednesday', 3:'Thursday', 4:'Friday', 5:'Saturday', 6:'Sunday'}\n",
    "\n",
    "plt.figure(figsize=(10,10))\n",
    "\n",
    "# Plot each day of the week separately to create a labeled legend\n",
    "for day in df['DayOfWeek'].unique():\n",
    "    plt.scatter(df['X'][df['DayOfWeek']==day], df['Y'][df['DayOfWeek']==day], c=colors[day], label=labels[day])\n",
    "\n",
    "plt.title('Crime Incidents Scatter Plot (Day of Week)')\n",
    "plt.xlabel('X')\n",
    "plt.ylabel('Y')\n",
    "plt.legend()\n",
    "plt.show()\n"
   ]
  },
  {
   "cell_type": "markdown",
   "id": "310a504d",
   "metadata": {},
   "source": [
    "There are some very rough patterns but nothing stands out as especially significant. For example, on Tuesdays almost all of the cases seem to happen towards the West, but they are not tightly grouped or focused around one specific point. There are also 4 cases that are quite far and possibly should be reported in another database instead"
   ]
  },
  {
   "cell_type": "code",
   "execution_count": 229,
   "id": "abc301a4",
   "metadata": {},
   "outputs": [
    {
     "data": {
      "image/png": "[encoded data removed]",
      "text/plain": [
       "<Figure size 1000x1000 with 1 Axes>"
      ]
     },
     "metadata": {},
     "output_type": "display_data"
    }
   ],
   "source": [
    "import matplotlib.pyplot as plt\n",
    "import numpy as np\n",
    "\n",
    "# Color dictionary for each unique victim count\n",
    "colors = {0:'lightgray', 1:'lightblue', 2:'blue', 3:'purple', 4:'darkviolet', 5:'black'}\n",
    "\n",
    "# Label dictionary for each unique victim count\n",
    "labels = {0:'0', 1:'1', 2:'2', 3:'3', 4:'4', 5:'5+'}\n",
    "\n",
    "plt.figure(figsize=(10,10))\n",
    "\n",
    "# Plot each victim count separately\n",
    "for count in np.sort(df['VictimCount'].unique()):\n",
    "    if count > 4: # Group all counts of 5 and above together\n",
    "        plt.scatter(df['X'][df['VictimCount']>=5], df['Y'][df['VictimCount']>=5], c=colors[5])\n",
    "    else:\n",
    "        plt.scatter(df['X'][df['VictimCount']==count], df['Y'][df['VictimCount']==count], c=colors[count])\n",
    "\n",
    "# Create legend\n",
    "legend_elements = [plt.Line2D([0], [0], marker='o', color='w', label=labels[i],\n",
    "                          markerfacecolor=colors[i], markersize=10) for i in colors]\n",
    "plt.legend(handles=legend_elements, title=\"Victim Count\")\n",
    "\n",
    "plt.title('Crime Incidents Scatter Plot (Victim Count)')\n",
    "plt.xlabel('X')\n",
    "plt.ylabel('Y')\n",
    "plt.show()\n"
   ]
  },
  {
   "cell_type": "markdown",
   "id": "866879fa",
   "metadata": {},
   "source": [
    "The patterns visible on this graph are quite fascinating. While cases with 1 or less victims are quite spread out, the cases with more victims seem to be a little more tightly grouped towards the city center."
   ]
  },
  {
   "cell_type": "code",
   "execution_count": 233,
   "id": "a77c3148",
   "metadata": {},
   "outputs": [
    {
     "data": {
      "text/plain": [
       "4    51\n",
       "3    44\n",
       "5    43\n",
       "0    40\n",
       "1    37\n",
       "2    32\n",
       "6    28\n",
       "Name: DayOfWeek, dtype: int64"
      ]
     },
     "execution_count": 233,
     "metadata": {},
     "output_type": "execute_result"
    }
   ],
   "source": [
    "df['DayOfWeek'].value_counts().sort_values(ascending=False)"
   ]
  },
  {
   "cell_type": "markdown",
   "id": "91b722c6",
   "metadata": {},
   "source": [
    "Day 4 (Thursday) is most common, followed by Day 3 (Wednesday) and Day 5 (Friday). Saturday would appear to be the least common."
   ]
  }
 ],
 "metadata": {
  "kernelspec": {
   "display_name": "Python 3 (ipykernel)",
   "language": "python",
   "name": "python3"
  },
  "language_info": {
   "codemirror_mode": {
    "name": "ipython",
    "version": 3
   },
   "file_extension": ".py",
   "mimetype": "text/x-python",
   "name": "python",
   "nbconvert_exporter": "python",
   "pygments_lexer": "ipython3",
   "version": "3.11.4"
  }
 },
 "nbformat": 4,
 "nbformat_minor": 5
}
